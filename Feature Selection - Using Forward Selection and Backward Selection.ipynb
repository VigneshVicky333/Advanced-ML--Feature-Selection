{
 "cells": [
  {
   "cell_type": "markdown",
   "id": "f57f4ae4-297c-4efa-a415-4a71787ee6f4",
   "metadata": {},
   "source": [
    "## Feature Selection Using Forward Selection and Backward Selection\n",
    "\n",
    "### Concepts:\n",
    "\n",
    "**Forward Selection:**\n",
    "- Starts with an empty model (no features).\n",
    "- Adds one feature at a time based on a selection criterion (e.g., highest accuracy, lowest p-value).\n",
    "- The feature that improves the model the most is added at each step.\n",
    "- Stops when no significant improvement is observed by adding more features.\n",
    "\n",
    "**Backward Selection:**\n",
    "- Starts with all features in the model.\n",
    "- Removes one feature at a time based on a selection criterion (e.g., lowest importance, highest p-value).\n",
    "- The feature whose removal least affects the model performance is removed at each step.\n",
    "- Stops when removing any further features would degrade performance.\n",
    "\n",
    "Both methods aim to find the optimal set of features for a machine learning model.\n"
   ]
  },
  {
   "cell_type": "code",
   "execution_count": 3,
   "id": "61a33459-bcfa-4a3e-ab8a-d9917f0c330d",
   "metadata": {},
   "outputs": [],
   "source": [
    "import pandas as pd\n",
    "from sklearn.datasets import load_iris\n",
    "from sklearn.ensemble import RandomForestClassifier\n",
    "from sklearn.model_selection import train_test_split\n",
    "from mlxtend.feature_selection import SequentialFeatureSelector as SFS\n"
   ]
  },
  {
   "cell_type": "markdown",
   "id": "771e8076-ce5f-42bf-81cd-56a7f6872a22",
   "metadata": {},
   "source": [
    "! pip install mlxtend"
   ]
  },
  {
   "cell_type": "code",
   "execution_count": 4,
   "id": "14e898b6-bc7b-4298-baf0-5fe0c27862fd",
   "metadata": {},
   "outputs": [],
   "source": [
    "# Load the Iris dataset\n",
    "iris = load_iris()\n",
    "X = pd.DataFrame(iris.data, columns=iris.feature_names)\n",
    "y = iris.target\n",
    "\n",
    "# Split the dataset\n",
    "X_train, X_test, y_train, y_test = train_test_split(X, y, test_size=0.3, random_state=42)\n"
   ]
  },
  {
   "cell_type": "markdown",
   "id": "e3abedf3-db59-4663-acca-f37c2a92fb68",
   "metadata": {},
   "source": [
    "#### Forward Selection"
   ]
  },
  {
   "cell_type": "code",
   "execution_count": 5,
   "id": "1132b89e-51ae-4f2e-9ff3-0581a6aa4c2c",
   "metadata": {},
   "outputs": [
    {
     "name": "stdout",
     "output_type": "stream",
     "text": [
      "Forward Selected Features: ('petal length (cm)', 'petal width (cm)')\n"
     ]
    }
   ],
   "source": [
    "# Initialize the model\n",
    "rf_model = RandomForestClassifier(random_state=42)\n",
    "\n",
    "# Perform Forward Selection\n",
    "forward_selector = SFS(rf_model, \n",
    "                       k_features='best', \n",
    "                       forward=True, \n",
    "                       floating=False, \n",
    "                       scoring='accuracy', \n",
    "                       cv=5)\n",
    "\n",
    "forward_selector = forward_selector.fit(X_train, y_train)\n",
    "\n",
    "# Display Selected Features\n",
    "print(\"Forward Selected Features:\", forward_selector.k_feature_names_)\n"
   ]
  },
  {
   "cell_type": "markdown",
   "id": "b84aaead-6e6a-4c83-a8e8-125c09ed768b",
   "metadata": {},
   "source": [
    "#### Backward Selection"
   ]
  },
  {
   "cell_type": "code",
   "execution_count": 6,
   "id": "53542631-6cdb-412c-ad77-969c9a0a817e",
   "metadata": {},
   "outputs": [
    {
     "name": "stdout",
     "output_type": "stream",
     "text": [
      "Backward Selected Features: ('petal length (cm)', 'petal width (cm)')\n"
     ]
    }
   ],
   "source": [
    "# Perform Backward Selection\n",
    "backward_selector = SFS(rf_model, \n",
    "                        k_features='best', \n",
    "                        forward=False, \n",
    "                        floating=False, \n",
    "                        scoring='accuracy', \n",
    "                        cv=5)\n",
    "\n",
    "backward_selector = backward_selector.fit(X_train, y_train)\n",
    "\n",
    "# Display Selected Features\n",
    "print(\"Backward Selected Features:\", backward_selector.k_feature_names_)\n"
   ]
  },
  {
   "cell_type": "markdown",
   "id": "1518cf50-dae9-499b-8c95-64ddb420de8b",
   "metadata": {},
   "source": [
    "### Explanation of Code:\n",
    "\n",
    "**SequentialFeatureSelector:**\n",
    "\n",
    "- `k_features='best'`: Automatically selects the best subset of features.\n",
    "- `forward=True/False`: Determines whether forward or backward selection is applied.\n",
    "- `scoring='accuracy'`: Uses accuracy as the selection criterion.\n",
    "- `cv=5`: Performs 5-fold cross-validation.\n",
    "\n",
    "**Selected Features:**\n",
    "\n",
    "- After fitting, `k_feature_names_` provides the names of selected features.\n",
    "- These features are optimal for improving model performance.\n"
   ]
  },
  {
   "cell_type": "markdown",
   "id": "c025e8d5-f76a-48c7-b3a0-cce218ad9be4",
   "metadata": {},
   "source": [
    "#### Evaluation with Selected Features"
   ]
  },
  {
   "cell_type": "code",
   "execution_count": 7,
   "id": "96128527-7b52-4a1e-923c-2e135863d6f6",
   "metadata": {},
   "outputs": [
    {
     "name": "stdout",
     "output_type": "stream",
     "text": [
      "Accuracy with Forward Selection: 1.0\n",
      "Accuracy with Backward Selection: 1.0\n"
     ]
    }
   ],
   "source": [
    "# Use Forward-Selected Features\n",
    "selected_features_forward = list(forward_selector.k_feature_idx_)\n",
    "X_train_forward = X_train.iloc[:, selected_features_forward]\n",
    "X_test_forward = X_test.iloc[:, selected_features_forward]\n",
    "\n",
    "rf_model.fit(X_train_forward, y_train)\n",
    "accuracy_forward = rf_model.score(X_test_forward, y_test)\n",
    "print(\"Accuracy with Forward Selection:\", accuracy_forward)\n",
    "\n",
    "# Use Backward-Selected Features\n",
    "selected_features_backward = list(backward_selector.k_feature_idx_)\n",
    "X_train_backward = X_train.iloc[:, selected_features_backward]\n",
    "X_test_backward = X_test.iloc[:, selected_features_backward]\n",
    "\n",
    "rf_model.fit(X_train_backward, y_train)\n",
    "accuracy_backward = rf_model.score(X_test_backward, y_test)\n",
    "print(\"Accuracy with Backward Selection:\", accuracy_backward)\n"
   ]
  },
  {
   "cell_type": "markdown",
   "id": "aa5c66aa-dc48-44d8-9d24-5fcf4fb26207",
   "metadata": {},
   "source": [
    "### Advantages and Disadvantages:\n",
    "\n",
    "#### Forward Selection:\n",
    "- **Advantages:**\n",
    "  - Computationally efficient for small datasets.\n",
    "  - Can stop early if no improvement is observed.\n",
    "- **Disadvantages:**\n",
    "  - May miss interactions between features.\n",
    "\n",
    "#### Backward Selection:\n",
    "- **Advantages:**\n",
    "  - Considers all features initially, avoiding missing interactions.\n",
    "- **Disadvantages:**\n",
    "  - Computationally expensive for large datasets.\n",
    "\n",
    "### Use Case:\n",
    "- Use **Forward Selection** when you have a large number of features and want a quick solution.\n",
    "- Use **Backward Selection** when you can afford more computation and want a more comprehensive analysis.\n"
   ]
  },
  {
   "cell_type": "code",
   "execution_count": null,
   "id": "b07e5583-55a6-4138-9660-1f5022a0f3a7",
   "metadata": {},
   "outputs": [],
   "source": []
  }
 ],
 "metadata": {
  "kernelspec": {
   "display_name": "Python 3 (ipykernel)",
   "language": "python",
   "name": "python3"
  },
  "language_info": {
   "codemirror_mode": {
    "name": "ipython",
    "version": 3
   },
   "file_extension": ".py",
   "mimetype": "text/x-python",
   "name": "python",
   "nbconvert_exporter": "python",
   "pygments_lexer": "ipython3",
   "version": "3.10.15"
  }
 },
 "nbformat": 4,
 "nbformat_minor": 5
}
