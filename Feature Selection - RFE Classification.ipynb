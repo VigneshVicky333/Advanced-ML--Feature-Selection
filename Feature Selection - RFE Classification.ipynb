{
 "cells": [
  {
   "cell_type": "code",
   "execution_count": 1,
   "id": "fe1519a1-b642-4b27-9cd8-94e93b5a8fba",
   "metadata": {},
   "outputs": [],
   "source": [
    "import pandas as pd\n",
    "from sklearn.model_selection import train_test_split \n",
    "import time\n",
    "import numpy as np\n",
    "from sklearn.preprocessing import StandardScaler\n",
    "from sklearn.feature_selection import SelectKBest\n",
    "from sklearn.feature_selection import chi2\n",
    "from sklearn.feature_selection import RFE\n",
    "from sklearn.linear_model import LogisticRegression\n",
    "import pickle\n",
    "import matplotlib.pyplot as plt\n",
    "from sklearn.neighbors import KNeighborsClassifier   \n",
    "from sklearn.svm import SVC\n",
    "from sklearn.ensemble import RandomForestClassifier\n",
    "from sklearn.naive_bayes import GaussianNB\n",
    "from sklearn.tree import DecisionTreeClassifier"
   ]
  },
  {
   "cell_type": "code",
   "execution_count": 2,
   "id": "853d560c-fd54-4f48-b224-e0e2e4872974",
   "metadata": {},
   "outputs": [],
   "source": [
    "def rfeFeature(indep_X,dep_Y,n):\n",
    "        rfelist=[]\n",
    "        \n",
    "        log_model = LogisticRegression(solver='lbfgs')\n",
    "        RF = RandomForestClassifier(n_estimators = 10, criterion = 'entropy', random_state = 0)\n",
    "       # NB = GaussianNB()\n",
    "        DT= DecisionTreeClassifier(criterion = 'gini', max_features='sqrt',splitter='best',random_state = 0)\n",
    "        svc_model = SVC(kernel = 'linear', random_state = 0)\n",
    "        #knn = KNeighborsClassifier(n_neighbors = 5, metric = 'minkowski', p = 2)\n",
    "        rfemodellist=[log_model,svc_model,RF,DT] \n",
    "        for i in   rfemodellist:\n",
    "            print(i)\n",
    "            log_rfe = RFE(i, n)\n",
    "            log_fit = log_rfe.fit(indep_X, dep_Y)\n",
    "            log_rfe_feature=log_fit.transform(indep_X)\n",
    "            rfelist.append(log_rfe_feature)\n",
    "        return rfelist"
   ]
  },
  {
   "cell_type": "markdown",
   "id": "21488366-c3e6-49e1-a574-0b7ffd8955d7",
   "metadata": {},
   "source": [
    "### Explanation of the Code: `rfeFeature`\n",
    "\n",
    "This function performs Recursive Feature Elimination (RFE) using multiple machine learning models to select the top `n` features from the dataset.\n",
    "\n",
    "---\n",
    "\n",
    "### Code Breakdown:\n",
    "\n",
    "#### **Function Signature**\n",
    "```python\n",
    "def rfeFeature(indep_X, dep_Y, n):\n"
   ]
  },
  {
   "cell_type": "markdown",
   "id": "beefa324-5ebe-4530-8d4c-69803a978dae",
   "metadata": {},
   "source": [
    "**Parameters:**\n",
    "- **indep_X:** Independent variables (features).\n",
    "- **dep_Y:** Dependent variable (target labels).\n",
    "- **n:** Number of top features to select.\n",
    "\n",
    "**Returns:**\n",
    "- A list of transformed datasets, where each dataset contains the n most important features selected by a specific model.\n"
   ]
  },
  {
   "cell_type": "markdown",
   "id": "725a1fe3-24e2-4124-bcf1-643de9b002fc",
   "metadata": {},
   "source": [
    "### Step 1: Initialize Variables\n",
    "\n",
    "```python\n",
    "rfelist = []\n",
    "\n",
    "- Initializes an empty list to store the transformed datasets with selected features.\n"
   ]
  },
  {
   "cell_type": "markdown",
   "id": "f92c1554-f8ae-4678-a3f2-7e8a116fd28e",
   "metadata": {},
   "source": [
    "### Step 2: Define Models for RFE\n",
    "\n",
    "\n",
    "```python\n",
    "log_model = LogisticRegression(solver='lbfgs')\n",
    "RF = RandomForestClassifier(n_estimators=10, criterion='entropy', random_state=0)\n",
    "DT = DecisionTreeClassifier(criterion='gini', max_features='sqrt', splitter='best', random_state=0)\n",
    "svc_model = SVC(kernel='linear', random_state=0)\n",
    "\n",
    "- Defines several machine learning models for performing RFE:\n",
    "  - **log_model:** Logistic Regression.\n",
    "  - **RF:** Random Forest Classifier.\n",
    "  - **DT:** Decision Tree Classifier.\n",
    "  - **svc_model:** Support Vector Classifier (SVC) with a linear kernel.\n"
   ]
  },
  {
   "cell_type": "markdown",
   "id": "76387d70-74dd-47f1-b8bf-57617dbe9a58",
   "metadata": {},
   "source": [
    "### Step 3: Model List\n",
    "\n",
    "```python\n",
    "rfemodellist = [log_model, svc_model, RF, DT]\n",
    "\n",
    "- A list of models used to perform RFE.\n"
   ]
  },
  {
   "cell_type": "markdown",
   "id": "b570e46f-fa8b-430e-8ed8-9e56b5adc482",
   "metadata": {},
   "source": [
    "### Step 4: Perform RFE for Each Model\n",
    "\n",
    "```python\n",
    "for i in rfemodellist:\n",
    "    print(i)\n",
    "    log_rfe = RFE(i, n)\n",
    "    log_fit = log_rfe.fit(indep_X, dep_Y)\n",
    "    log_rfe_feature = log_fit.transform(indep_X)\n",
    "    rfelist.append(log_rfe_feature)\n",
    "\n",
    "- Loops through each model in the `rfemodellist`:\n",
    "  - Prints the current model.\n",
    "  - Creates an RFE object for the model with `n` features.\n",
    "  - Fits the RFE object on the dataset (`indep_X` and `dep_Y`).\n",
    "  - Transforms the dataset to include only the selected `n` features.\n",
    "  - Appends the transformed dataset to `rfelist`.\n"
   ]
  },
  {
   "cell_type": "markdown",
   "id": "3c150f09-5370-4057-bd8b-f8cac6994075",
   "metadata": {},
   "source": [
    "### Step 5: Return the List\n",
    "\n",
    "```python\n",
    "return rfelist\n",
    "\n",
    "- Returns the list of datasets (`rfelist`), where each dataset corresponds to the top `n` features selected by a specific model.\n"
   ]
  },
  {
   "cell_type": "markdown",
   "id": "0b2c4884-0c98-4fb5-b8d9-93a83685baa5",
   "metadata": {},
   "source": [
    "**Purpose:**\n",
    "- **Feature Selection:** Reduces the dimensionality of the dataset by selecting only the most important features.\n",
    "- **Model-Specific Selection:** Allows different models to guide the feature selection process based on their unique perspectives.\n"
   ]
  },
  {
   "cell_type": "code",
   "execution_count": null,
   "id": "75fc86eb-c034-4803-9a2f-9a8634d36a47",
   "metadata": {},
   "outputs": [],
   "source": []
  },
  {
   "cell_type": "code",
   "execution_count": 3,
   "id": "11d29bea-342a-471e-a7cb-3885e7bd5c75",
   "metadata": {},
   "outputs": [],
   "source": [
    "def split_scalar(indep_X,dep_Y):\n",
    "        X_train, X_test, y_train, y_test = train_test_split(indep_X, dep_Y, test_size = 0.25, random_state = 0)\n",
    "        #X_train, X_test, y_train, y_test = train_test_split(indep_X,dep_Y, test_size = 0.25, random_state = 0)\n",
    "        \n",
    "        #Feature Scaling\n",
    "        #from sklearn.preprocessing import StandardScaler\n",
    "        sc = StandardScaler()\n",
    "        X_train = sc.fit_transform(X_train)\n",
    "        X_test = sc.transform(X_test)\n",
    "        \n",
    "        return X_train, X_test, y_train, y_test"
   ]
  },
  {
   "cell_type": "code",
   "execution_count": 4,
   "id": "2c930ee5-b8b1-4965-9d76-3bdf57253a8e",
   "metadata": {},
   "outputs": [],
   "source": [
    "def cm_prediction(classifier,X_test):\n",
    "     y_pred = classifier.predict(X_test)\n",
    "        \n",
    "        # Making the Confusion Matrix\n",
    "     from sklearn.metrics import confusion_matrix\n",
    "     cm = confusion_matrix(y_test, y_pred)\n",
    "        \n",
    "     from sklearn.metrics import accuracy_score \n",
    "     from sklearn.metrics import classification_report \n",
    "        #from sklearn.metrics import confusion_matrix\n",
    "        #cm = confusion_matrix(y_test, y_pred)\n",
    "        \n",
    "     Accuracy=accuracy_score(y_test, y_pred )\n",
    "        \n",
    "     report=classification_report(y_test, y_pred)\n",
    "     return  classifier,Accuracy,report,X_test,y_test,cm"
   ]
  },
  {
   "cell_type": "code",
   "execution_count": 5,
   "id": "28f2db69-0e09-4785-a42e-62f1275d8df3",
   "metadata": {},
   "outputs": [],
   "source": [
    "def logistic(X_train,y_train,X_test):       \n",
    "        # Fitting K-NN to the Training set\n",
    "        from sklearn.linear_model import LogisticRegression\n",
    "        classifier = LogisticRegression(random_state = 0)\n",
    "        classifier.fit(X_train, y_train)\n",
    "        classifier,Accuracy,report,X_test,y_test,cm=cm_prediction(classifier,X_test)\n",
    "        return  classifier,Accuracy,report,X_test,y_test,cm      "
   ]
  },
  {
   "cell_type": "code",
   "execution_count": 6,
   "id": "92d8555f-7055-47d7-a3c1-80c3bd0e163a",
   "metadata": {},
   "outputs": [],
   "source": [
    "def svm_linear(X_train,y_train,X_test):\n",
    "                \n",
    "        from sklearn.svm import SVC\n",
    "        classifier = SVC(kernel = 'linear', random_state = 0)\n",
    "        classifier.fit(X_train, y_train)\n",
    "        classifier,Accuracy,report,X_test,y_test,cm=cm_prediction(classifier,X_test)\n",
    "        return  classifier,Accuracy,report,X_test,y_test,cm"
   ]
  },
  {
   "cell_type": "code",
   "execution_count": 7,
   "id": "97b009eb-a78c-4b15-9959-97a07620273f",
   "metadata": {},
   "outputs": [],
   "source": [
    "def svm_NL(X_train,y_train,X_test):\n",
    "                \n",
    "        from sklearn.svm import SVC\n",
    "        classifier = SVC(kernel = 'rbf', random_state = 0)\n",
    "        classifier.fit(X_train, y_train)\n",
    "        classifier,Accuracy,report,X_test,y_test,cm=cm_prediction(classifier,X_test)\n",
    "        return  classifier,Accuracy,report,X_test,y_test,cm"
   ]
  },
  {
   "cell_type": "code",
   "execution_count": 8,
   "id": "d9e9f917-2f2f-4e18-a0ba-4a724ac74ce9",
   "metadata": {},
   "outputs": [],
   "source": [
    "def Navie(X_train,y_train,X_test):       \n",
    "        # Fitting K-NN to the Training set\n",
    "        from sklearn.naive_bayes import GaussianNB\n",
    "        classifier = GaussianNB()\n",
    "        classifier.fit(X_train, y_train)\n",
    "        classifier,Accuracy,report,X_test,y_test,cm=cm_prediction(classifier,X_test)\n",
    "        return  classifier,Accuracy,report,X_test,y_test,cm     "
   ]
  },
  {
   "cell_type": "code",
   "execution_count": 9,
   "id": "fe7908e8-1666-4c16-a391-cd7b920af52b",
   "metadata": {},
   "outputs": [],
   "source": [
    "def knn(X_train,y_train,X_test):\n",
    "           \n",
    "        # Fitting K-NN to the Training set\n",
    "        from sklearn.neighbors import KNeighborsClassifier\n",
    "        classifier = KNeighborsClassifier(n_neighbors = 5, metric = 'minkowski', p = 2)\n",
    "        classifier.fit(X_train, y_train)\n",
    "        classifier,Accuracy,report,X_test,y_test,cm=cm_prediction(classifier,X_test)\n",
    "        return  classifier,Accuracy,report,X_test,y_test,cm"
   ]
  },
  {
   "cell_type": "code",
   "execution_count": 10,
   "id": "6f71fe52-67c1-4295-88fd-b43658517523",
   "metadata": {},
   "outputs": [],
   "source": [
    "def Decision(X_train,y_train,X_test):\n",
    "        \n",
    "        # Fitting K-NN to the Training set\n",
    "        from sklearn.tree import DecisionTreeClassifier\n",
    "        classifier = DecisionTreeClassifier(criterion = 'entropy', random_state = 0)\n",
    "        classifier.fit(X_train, y_train)\n",
    "        classifier,Accuracy,report,X_test,y_test,cm=cm_prediction(classifier,X_test)\n",
    "        return  classifier,Accuracy,report,X_test,y_test,cm     "
   ]
  },
  {
   "cell_type": "code",
   "execution_count": 11,
   "id": "a505af81-549f-4d63-8689-20688af67209",
   "metadata": {},
   "outputs": [],
   "source": [
    "def random(X_train,y_train,X_test):\n",
    "        \n",
    "        # Fitting K-NN to the Training set\n",
    "        from sklearn.ensemble import RandomForestClassifier\n",
    "        classifier = RandomForestClassifier(n_estimators = 10, criterion = 'entropy', random_state = 0)\n",
    "        classifier.fit(X_train, y_train)\n",
    "        classifier,Accuracy,report,X_test,y_test,cm=cm_prediction(classifier,X_test)\n",
    "        return  classifier,Accuracy,report,X_test,y_test,cm"
   ]
  },
  {
   "cell_type": "code",
   "execution_count": 12,
   "id": "ad7e8a2c-ca6e-4b65-89a6-e1802221d56b",
   "metadata": {},
   "outputs": [],
   "source": [
    "def rfe_classification(acclog,accsvml,accsvmnl,accknn,accnav,accdes,accrf): \n",
    "    \n",
    "    rfedataframe=pd.DataFrame(index=['Logistic','SVC','Random','DecisionTree'],columns=['Logistic','SVMl','SVMnl',\n",
    "                                                                                        'KNN','Navie','Decision','Random'])\n",
    "\n",
    "    for number,idex in enumerate(rfedataframe.index):\n",
    "        \n",
    "        rfedataframe['Logistic'][idex]=acclog[number]       \n",
    "        rfedataframe['SVMl'][idex]=accsvml[number]\n",
    "        rfedataframe['SVMnl'][idex]=accsvmnl[number]\n",
    "        rfedataframe['KNN'][idex]=accknn[number]\n",
    "        rfedataframe['Navie'][idex]=accnav[number]\n",
    "        rfedataframe['Decision'][idex]=accdes[number]\n",
    "        rfedataframe['Random'][idex]=accrf[number]\n",
    "    return rfedataframe"
   ]
  },
  {
   "cell_type": "code",
   "execution_count": 14,
   "id": "edeb958f-0742-45b8-85e6-1ac4626ec5ae",
   "metadata": {},
   "outputs": [
    {
     "ename": "TypeError",
     "evalue": "DataFrame.drop() takes from 1 to 2 positional arguments but 3 were given",
     "output_type": "error",
     "traceback": [
      "\u001b[1;31m---------------------------------------------------------------------------\u001b[0m",
      "\u001b[1;31mTypeError\u001b[0m                                 Traceback (most recent call last)",
      "Cell \u001b[1;32mIn[14], line 5\u001b[0m\n\u001b[0;32m      2\u001b[0m df2\u001b[38;5;241m=\u001b[39mdataset1\n\u001b[0;32m      3\u001b[0m df2 \u001b[38;5;241m=\u001b[39m pd\u001b[38;5;241m.\u001b[39mget_dummies(df2, dtype\u001b[38;5;241m=\u001b[39m\u001b[38;5;28mint\u001b[39m, drop_first\u001b[38;5;241m=\u001b[39m\u001b[38;5;28;01mTrue\u001b[39;00m)\n\u001b[1;32m----> 5\u001b[0m indep_X\u001b[38;5;241m=\u001b[39m\u001b[43mdf2\u001b[49m\u001b[38;5;241;43m.\u001b[39;49m\u001b[43mdrop\u001b[49m\u001b[43m(\u001b[49m\u001b[38;5;124;43m'\u001b[39;49m\u001b[38;5;124;43mclassification_yes\u001b[39;49m\u001b[38;5;124;43m'\u001b[39;49m\u001b[43m,\u001b[49m\u001b[43m \u001b[49m\u001b[38;5;241;43m1\u001b[39;49m\u001b[43m)\u001b[49m\n\u001b[0;32m      6\u001b[0m dep_Y\u001b[38;5;241m=\u001b[39mdf2[\u001b[38;5;124m'\u001b[39m\u001b[38;5;124mclassification_yes\u001b[39m\u001b[38;5;124m'\u001b[39m]\n",
      "\u001b[1;31mTypeError\u001b[0m: DataFrame.drop() takes from 1 to 2 positional arguments but 3 were given"
     ]
    }
   ],
   "source": [
    "dataset1=pd.read_csv(\"prep.csv\",index_col=None)\n",
    "df2=dataset1\n",
    "df2 = pd.get_dummies(df2, dtype=int, drop_first=True)\n",
    "\n",
    "indep_X=df2.drop('classification_yes', 1)\n",
    "dep_Y=df2['classification_yes']"
   ]
  },
  {
   "cell_type": "markdown",
   "id": "25d98555-eb46-41f8-87a7-14f0ee333931",
   "metadata": {},
   "source": [
    "The error occurs because the DataFrame.drop() method in pandas no longer accepts 1 or 0 as positional arguments for the axis parameter in modern versions of pandas. Instead, you should explicitly specify axis=1 for dropping columns or axis=0 for dropping rows."
   ]
  },
  {
   "cell_type": "markdown",
   "id": "27368834-7850-4306-a77a-5df73ac45c47",
   "metadata": {},
   "source": [
    "Here's the corrected version of the above code:"
   ]
  },
  {
   "cell_type": "code",
   "execution_count": 15,
   "id": "d54d39ae-5cad-4699-a3f8-abe7b61f7682",
   "metadata": {},
   "outputs": [
    {
     "name": "stdout",
     "output_type": "stream",
     "text": [
      "   age         bp   al   su         bgr         bu        sc         sod  \\\n",
      "0  2.0  76.459948  3.0  0.0  148.112676  57.482105  3.077356  137.528754   \n",
      "1  3.0  76.459948  2.0  0.0  148.112676  22.000000  0.700000  137.528754   \n",
      "2  4.0  76.459948  1.0  0.0   99.000000  23.000000  0.600000  138.000000   \n",
      "3  5.0  76.459948  1.0  0.0  148.112676  16.000000  0.700000  138.000000   \n",
      "4  5.0  50.000000  0.0  0.0  148.112676  25.000000  0.600000  137.528754   \n",
      "\n",
      "        pot       hrmo  ...  rbc_normal  pc_normal  pcc_present  ba_present  \\\n",
      "0  4.627244  12.518156  ...           1          0            0           0   \n",
      "1  4.627244  10.700000  ...           1          1            0           0   \n",
      "2  4.400000  12.000000  ...           1          1            0           0   \n",
      "3  3.200000   8.100000  ...           1          1            0           0   \n",
      "4  4.627244  11.800000  ...           1          1            0           0   \n",
      "\n",
      "   htn_yes  dm_yes  cad_yes  appet_yes  pe_yes  ane_yes  \n",
      "0        0       0        0          1       1        0  \n",
      "1        0       0        0          1       0        0  \n",
      "2        0       0        0          1       0        0  \n",
      "3        0       0        0          1       0        1  \n",
      "4        0       0        0          1       0        0  \n",
      "\n",
      "[5 rows x 27 columns]\n",
      "0    1\n",
      "1    1\n",
      "2    1\n",
      "3    1\n",
      "4    1\n",
      "Name: classification_yes, dtype: int64\n"
     ]
    }
   ],
   "source": [
    "# Load the dataset\n",
    "dataset1 = pd.read_csv(\"prep.csv\", index_col=None)\n",
    "\n",
    "# Create a copy of the dataset\n",
    "df2 = dataset1\n",
    "\n",
    "# Perform one-hot encoding with drop_first=True\n",
    "df2 = pd.get_dummies(df2, dtype = int,drop_first=True)\n",
    "\n",
    "# Separate independent variables (X) and dependent variable (Y)\n",
    "indep_X = df2.drop('classification_yes', axis=1)  # Specify axis=1 explicitly\n",
    "dep_Y = df2['classification_yes']\n",
    "\n",
    "# Check the results\n",
    "print(indep_X.head())\n",
    "print(dep_Y.head())\n"
   ]
  },
  {
   "cell_type": "code",
   "execution_count": 16,
   "id": "8347230c-2a4c-453d-becb-346cf72d1fb1",
   "metadata": {},
   "outputs": [
    {
     "name": "stdout",
     "output_type": "stream",
     "text": [
      "LogisticRegression()\n"
     ]
    },
    {
     "ename": "TypeError",
     "evalue": "RFE.__init__() takes 2 positional arguments but 3 were given",
     "output_type": "error",
     "traceback": [
      "\u001b[1;31m---------------------------------------------------------------------------\u001b[0m",
      "\u001b[1;31mTypeError\u001b[0m                                 Traceback (most recent call last)",
      "Cell \u001b[1;32mIn[16], line 1\u001b[0m\n\u001b[1;32m----> 1\u001b[0m rfelist\u001b[38;5;241m=\u001b[39m\u001b[43mrfeFeature\u001b[49m\u001b[43m(\u001b[49m\u001b[43mindep_X\u001b[49m\u001b[43m,\u001b[49m\u001b[43mdep_Y\u001b[49m\u001b[43m,\u001b[49m\u001b[38;5;241;43m3\u001b[39;49m\u001b[43m)\u001b[49m       \n\u001b[0;32m      3\u001b[0m acclog\u001b[38;5;241m=\u001b[39m[]\n\u001b[0;32m      4\u001b[0m accsvml\u001b[38;5;241m=\u001b[39m[]\n",
      "Cell \u001b[1;32mIn[2], line 13\u001b[0m, in \u001b[0;36mrfeFeature\u001b[1;34m(indep_X, dep_Y, n)\u001b[0m\n\u001b[0;32m     11\u001b[0m \u001b[38;5;28;01mfor\u001b[39;00m i \u001b[38;5;129;01min\u001b[39;00m   rfemodellist:\n\u001b[0;32m     12\u001b[0m     \u001b[38;5;28mprint\u001b[39m(i)\n\u001b[1;32m---> 13\u001b[0m     log_rfe \u001b[38;5;241m=\u001b[39m \u001b[43mRFE\u001b[49m\u001b[43m(\u001b[49m\u001b[43mi\u001b[49m\u001b[43m,\u001b[49m\u001b[43m \u001b[49m\u001b[43mn\u001b[49m\u001b[43m)\u001b[49m\n\u001b[0;32m     14\u001b[0m     log_fit \u001b[38;5;241m=\u001b[39m log_rfe\u001b[38;5;241m.\u001b[39mfit(indep_X, dep_Y)\n\u001b[0;32m     15\u001b[0m     log_rfe_feature\u001b[38;5;241m=\u001b[39mlog_fit\u001b[38;5;241m.\u001b[39mtransform(indep_X)\n",
      "\u001b[1;31mTypeError\u001b[0m: RFE.__init__() takes 2 positional arguments but 3 were given"
     ]
    }
   ],
   "source": [
    "rfelist=rfeFeature(indep_X,dep_Y,3)       \n",
    "\n",
    "acclog=[]\n",
    "accsvml=[]\n",
    "accsvmnl=[]\n",
    "accknn=[]\n",
    "accnav=[]\n",
    "accdes=[]\n",
    "accrf=[]"
   ]
  },
  {
   "cell_type": "markdown",
   "id": "8f9eaa0a-54b9-46e4-a1a3-d90e54c4275a",
   "metadata": {},
   "source": [
    "The error occurs because the RFE constructor is being incorrectly called with three arguments, while it only expects two positional arguments: the estimator (model) and the number of features to select.\n",
    "\n",
    "**To fix this error, ensure the RFE object is instantiated correctly. Here's the corrected code:**\n"
   ]
  },
  {
   "cell_type": "code",
   "execution_count": 17,
   "id": "7c66ff50-2b98-4d9b-affa-a08cc068d68f",
   "metadata": {},
   "outputs": [],
   "source": [
    "from sklearn.feature_selection import RFE\n",
    "from sklearn.linear_model import LogisticRegression\n",
    "from sklearn.ensemble import RandomForestClassifier\n",
    "from sklearn.tree import DecisionTreeClassifier\n",
    "from sklearn.svm import SVC\n",
    "\n",
    "def rfeFeature(indep_X, dep_Y, n):\n",
    "    rfelist = []\n",
    "    \n",
    "    # Define models\n",
    "    log_model = LogisticRegression(solver='lbfgs', max_iter=1000)\n",
    "    RF = RandomForestClassifier(n_estimators=10, criterion='entropy', random_state=0)\n",
    "    DT = DecisionTreeClassifier(criterion='gini', max_features='sqrt', splitter='best', random_state=0)\n",
    "    svc_model = SVC(kernel='linear', random_state=0)\n",
    "    \n",
    "    # List of models to use in RFE\n",
    "    rfemodellist = [log_model, svc_model, RF, DT]\n",
    "    \n",
    "    for i in rfemodellist:\n",
    "        print(i)\n",
    "        # Correct RFE instantiation\n",
    "        log_rfe = RFE(estimator=i, n_features_to_select=n)\n",
    "        log_fit = log_rfe.fit(indep_X, dep_Y)\n",
    "        log_rfe_feature = log_fit.transform(indep_X)\n",
    "        rfelist.append(log_rfe_feature)\n",
    "    \n",
    "    return rfelist\n"
   ]
  },
  {
   "cell_type": "markdown",
   "id": "4120a087-cc08-4cbc-9497-bd8985d5835a",
   "metadata": {},
   "source": [
    "**Explanation of the Fix:**\n",
    "- The correct arguments for RFE are:\n",
    "  - **estimator:** The model (e.g., LogisticRegression, RandomForestClassifier).\n",
    "  - **n_features_to_select:** The number of features to select (`n` in your function).\n"
   ]
  },
  {
   "cell_type": "markdown",
   "id": "29d68674-7508-4ffe-aca6-8aa8a0bc9ec5",
   "metadata": {},
   "source": [
    "**How to use:**\n",
    "\n",
    "`rfelist = rfeFeature(indep_X, dep_Y, 3)`\n",
    "\n",
    "This will now execute without errors, and the `rfelist` variable will contain the top 3 selected features for each model in the `rfemodellist`.\n"
   ]
  },
  {
   "cell_type": "code",
   "execution_count": 18,
   "id": "f589e311-fc37-4692-85ba-b1151489eafa",
   "metadata": {},
   "outputs": [
    {
     "ename": "NameError",
     "evalue": "name 'rfelist' is not defined",
     "output_type": "error",
     "traceback": [
      "\u001b[1;31m---------------------------------------------------------------------------\u001b[0m",
      "\u001b[1;31mNameError\u001b[0m                                 Traceback (most recent call last)",
      "Cell \u001b[1;32mIn[18], line 1\u001b[0m\n\u001b[1;32m----> 1\u001b[0m \u001b[38;5;28;01mfor\u001b[39;00m i \u001b[38;5;129;01min\u001b[39;00m \u001b[43mrfelist\u001b[49m:   \n\u001b[0;32m      2\u001b[0m     X_train, X_test, y_train, y_test\u001b[38;5;241m=\u001b[39msplit_scalar(i,dep_Y)   \n\u001b[0;32m      5\u001b[0m     classifier,Accuracy,report,X_test,y_test,cm\u001b[38;5;241m=\u001b[39mlogistic(X_train,y_train,X_test)\n",
      "\u001b[1;31mNameError\u001b[0m: name 'rfelist' is not defined"
     ]
    }
   ],
   "source": [
    "for i in rfelist:   \n",
    "    X_train, X_test, y_train, y_test=split_scalar(i,dep_Y)   \n",
    "    \n",
    "        \n",
    "    classifier,Accuracy,report,X_test,y_test,cm=logistic(X_train,y_train,X_test)\n",
    "    acclog.append(Accuracy)\n",
    "    \n",
    "    classifier,Accuracy,report,X_test,y_test,cm=svm_linear(X_train,y_train,X_test)  \n",
    "    accsvml.append(Accuracy)\n",
    "    \n",
    "    classifier,Accuracy,report,X_test,y_test,cm=svm_NL(X_train,y_train,X_test)  \n",
    "    accsvmnl.append(Accuracy)\n",
    "    \n",
    "    classifier,Accuracy,report,X_test,y_test,cm=knn(X_train,y_train,X_test)  \n",
    "    accknn.append(Accuracy)\n",
    "    \n",
    "    classifier,Accuracy,report,X_test,y_test,cm=Navie(X_train,y_train,X_test)  \n",
    "    accnav.append(Accuracy)\n",
    "    \n",
    "    classifier,Accuracy,report,X_test,y_test,cm=Decision(X_train,y_train,X_test)  \n",
    "    accdes.append(Accuracy)\n",
    "    \n",
    "    classifier,Accuracy,report,X_test,y_test,cm=random(X_train,y_train,X_test)  \n",
    "    accrf.append(Accuracy)\n",
    "    \n",
    "result=rfe_classification(acclog,accsvml,accsvmnl,accknn,accnav,accdes,accrf)"
   ]
  },
  {
   "cell_type": "markdown",
   "id": "d2d715be-3e95-4e49-8153-274e480a26ba",
   "metadata": {},
   "source": [
    "The error `NameError: name 'rfelist' is not defined` occurs because the variable `rfelist` has not been defined or assigned a value prior to the loop. You need to ensure that `rfelist` is properly initialized before attempting to iterate over it.\n",
    "\n",
    "**Steps to Fix:**\n",
    "- Make sure the `rfeFeature` function is correctly defined and executed to create the `rfelist`.\n",
    "- Call the `rfeFeature` function with appropriate inputs before the loop.\n"
   ]
  },
  {
   "cell_type": "markdown",
   "id": "63db166a-90b2-482e-b096-c44ecebdaf17",
   "metadata": {},
   "source": [
    "**Here’s the corrected workflow:**\n"
   ]
  },
  {
   "cell_type": "code",
   "execution_count": 19,
   "id": "84db707a-65ec-4fb0-8ae6-8aaa8b55d146",
   "metadata": {},
   "outputs": [
    {
     "name": "stdout",
     "output_type": "stream",
     "text": [
      "LogisticRegression(max_iter=1000)\n"
     ]
    },
    {
     "name": "stderr",
     "output_type": "stream",
     "text": [
      "C:\\Users\\dell\\anaconda3\\envs\\aiml\\lib\\site-packages\\sklearn\\linear_model\\_logistic.py:469: ConvergenceWarning: lbfgs failed to converge (status=1):\n",
      "STOP: TOTAL NO. of ITERATIONS REACHED LIMIT.\n",
      "\n",
      "Increase the number of iterations (max_iter) or scale the data as shown in:\n",
      "    https://scikit-learn.org/stable/modules/preprocessing.html\n",
      "Please also refer to the documentation for alternative solver options:\n",
      "    https://scikit-learn.org/stable/modules/linear_model.html#logistic-regression\n",
      "  n_iter_i = _check_optimize_result(\n"
     ]
    },
    {
     "name": "stdout",
     "output_type": "stream",
     "text": [
      "SVC(kernel='linear', random_state=0)\n",
      "RandomForestClassifier(criterion='entropy', n_estimators=10, random_state=0)\n",
      "DecisionTreeClassifier(max_features='sqrt', random_state=0)\n"
     ]
    },
    {
     "name": "stderr",
     "output_type": "stream",
     "text": [
      "C:\\Users\\dell\\AppData\\Local\\Temp\\ipykernel_2044\\2386145136.py:8: FutureWarning: ChainedAssignmentError: behaviour will change in pandas 3.0!\n",
      "You are setting values through chained assignment. Currently this works in certain cases, but when using Copy-on-Write (which will become the default behaviour in pandas 3.0) this will never work to update the original DataFrame or Series, because the intermediate object on which we are setting values will behave as a copy.\n",
      "A typical example is when you are setting values in a column of a DataFrame, like:\n",
      "\n",
      "df[\"col\"][row_indexer] = value\n",
      "\n",
      "Use `df.loc[row_indexer, \"col\"] = values` instead, to perform the assignment in a single step and ensure this keeps updating the original `df`.\n",
      "\n",
      "See the caveats in the documentation: https://pandas.pydata.org/pandas-docs/stable/user_guide/indexing.html#returning-a-view-versus-a-copy\n",
      "\n",
      "  rfedataframe['Logistic'][idex]=acclog[number]\n",
      "C:\\Users\\dell\\AppData\\Local\\Temp\\ipykernel_2044\\2386145136.py:9: FutureWarning: ChainedAssignmentError: behaviour will change in pandas 3.0!\n",
      "You are setting values through chained assignment. Currently this works in certain cases, but when using Copy-on-Write (which will become the default behaviour in pandas 3.0) this will never work to update the original DataFrame or Series, because the intermediate object on which we are setting values will behave as a copy.\n",
      "A typical example is when you are setting values in a column of a DataFrame, like:\n",
      "\n",
      "df[\"col\"][row_indexer] = value\n",
      "\n",
      "Use `df.loc[row_indexer, \"col\"] = values` instead, to perform the assignment in a single step and ensure this keeps updating the original `df`.\n",
      "\n",
      "See the caveats in the documentation: https://pandas.pydata.org/pandas-docs/stable/user_guide/indexing.html#returning-a-view-versus-a-copy\n",
      "\n",
      "  rfedataframe['SVMl'][idex]=accsvml[number]\n",
      "C:\\Users\\dell\\AppData\\Local\\Temp\\ipykernel_2044\\2386145136.py:10: FutureWarning: ChainedAssignmentError: behaviour will change in pandas 3.0!\n",
      "You are setting values through chained assignment. Currently this works in certain cases, but when using Copy-on-Write (which will become the default behaviour in pandas 3.0) this will never work to update the original DataFrame or Series, because the intermediate object on which we are setting values will behave as a copy.\n",
      "A typical example is when you are setting values in a column of a DataFrame, like:\n",
      "\n",
      "df[\"col\"][row_indexer] = value\n",
      "\n",
      "Use `df.loc[row_indexer, \"col\"] = values` instead, to perform the assignment in a single step and ensure this keeps updating the original `df`.\n",
      "\n",
      "See the caveats in the documentation: https://pandas.pydata.org/pandas-docs/stable/user_guide/indexing.html#returning-a-view-versus-a-copy\n",
      "\n",
      "  rfedataframe['SVMnl'][idex]=accsvmnl[number]\n",
      "C:\\Users\\dell\\AppData\\Local\\Temp\\ipykernel_2044\\2386145136.py:11: FutureWarning: ChainedAssignmentError: behaviour will change in pandas 3.0!\n",
      "You are setting values through chained assignment. Currently this works in certain cases, but when using Copy-on-Write (which will become the default behaviour in pandas 3.0) this will never work to update the original DataFrame or Series, because the intermediate object on which we are setting values will behave as a copy.\n",
      "A typical example is when you are setting values in a column of a DataFrame, like:\n",
      "\n",
      "df[\"col\"][row_indexer] = value\n",
      "\n",
      "Use `df.loc[row_indexer, \"col\"] = values` instead, to perform the assignment in a single step and ensure this keeps updating the original `df`.\n",
      "\n",
      "See the caveats in the documentation: https://pandas.pydata.org/pandas-docs/stable/user_guide/indexing.html#returning-a-view-versus-a-copy\n",
      "\n",
      "  rfedataframe['KNN'][idex]=accknn[number]\n",
      "C:\\Users\\dell\\AppData\\Local\\Temp\\ipykernel_2044\\2386145136.py:12: FutureWarning: ChainedAssignmentError: behaviour will change in pandas 3.0!\n",
      "You are setting values through chained assignment. Currently this works in certain cases, but when using Copy-on-Write (which will become the default behaviour in pandas 3.0) this will never work to update the original DataFrame or Series, because the intermediate object on which we are setting values will behave as a copy.\n",
      "A typical example is when you are setting values in a column of a DataFrame, like:\n",
      "\n",
      "df[\"col\"][row_indexer] = value\n",
      "\n",
      "Use `df.loc[row_indexer, \"col\"] = values` instead, to perform the assignment in a single step and ensure this keeps updating the original `df`.\n",
      "\n",
      "See the caveats in the documentation: https://pandas.pydata.org/pandas-docs/stable/user_guide/indexing.html#returning-a-view-versus-a-copy\n",
      "\n",
      "  rfedataframe['Navie'][idex]=accnav[number]\n",
      "C:\\Users\\dell\\AppData\\Local\\Temp\\ipykernel_2044\\2386145136.py:13: FutureWarning: ChainedAssignmentError: behaviour will change in pandas 3.0!\n",
      "You are setting values through chained assignment. Currently this works in certain cases, but when using Copy-on-Write (which will become the default behaviour in pandas 3.0) this will never work to update the original DataFrame or Series, because the intermediate object on which we are setting values will behave as a copy.\n",
      "A typical example is when you are setting values in a column of a DataFrame, like:\n",
      "\n",
      "df[\"col\"][row_indexer] = value\n",
      "\n",
      "Use `df.loc[row_indexer, \"col\"] = values` instead, to perform the assignment in a single step and ensure this keeps updating the original `df`.\n",
      "\n",
      "See the caveats in the documentation: https://pandas.pydata.org/pandas-docs/stable/user_guide/indexing.html#returning-a-view-versus-a-copy\n",
      "\n",
      "  rfedataframe['Decision'][idex]=accdes[number]\n",
      "C:\\Users\\dell\\AppData\\Local\\Temp\\ipykernel_2044\\2386145136.py:14: FutureWarning: ChainedAssignmentError: behaviour will change in pandas 3.0!\n",
      "You are setting values through chained assignment. Currently this works in certain cases, but when using Copy-on-Write (which will become the default behaviour in pandas 3.0) this will never work to update the original DataFrame or Series, because the intermediate object on which we are setting values will behave as a copy.\n",
      "A typical example is when you are setting values in a column of a DataFrame, like:\n",
      "\n",
      "df[\"col\"][row_indexer] = value\n",
      "\n",
      "Use `df.loc[row_indexer, \"col\"] = values` instead, to perform the assignment in a single step and ensure this keeps updating the original `df`.\n",
      "\n",
      "See the caveats in the documentation: https://pandas.pydata.org/pandas-docs/stable/user_guide/indexing.html#returning-a-view-versus-a-copy\n",
      "\n",
      "  rfedataframe['Random'][idex]=accrf[number]\n"
     ]
    }
   ],
   "source": [
    "# Ensure rfeFeature is correctly defined\n",
    "rfelist = rfeFeature(indep_X, dep_Y, 3)  # Generate rfelist with top 3 features\n",
    "\n",
    "# Lists to store accuracies for each model\n",
    "acclog = []\n",
    "accsvml = []\n",
    "accsvmnl = []\n",
    "accknn = []\n",
    "accnav = []\n",
    "accdes = []\n",
    "accrf = []\n",
    "\n",
    "# Iterating over rfelist and evaluating models\n",
    "for i in rfelist:   \n",
    "    X_train, X_test, y_train, y_test = split_scalar(i, dep_Y)  # Ensure split_scalar is defined\n",
    "    \n",
    "    # Logistic Regression\n",
    "    classifier, Accuracy, report, X_test, y_test, cm = logistic(X_train, y_train, X_test)\n",
    "    acclog.append(Accuracy)\n",
    "    \n",
    "    # SVM (Linear Kernel)\n",
    "    classifier, Accuracy, report, X_test, y_test, cm = svm_linear(X_train, y_train, X_test)  \n",
    "    accsvml.append(Accuracy)\n",
    "    \n",
    "    # SVM (Non-Linear Kernel)\n",
    "    classifier, Accuracy, report, X_test, y_test, cm = svm_NL(X_train, y_train, X_test)  \n",
    "    accsvmnl.append(Accuracy)\n",
    "    \n",
    "    # k-NN\n",
    "    classifier, Accuracy, report, X_test, y_test, cm = knn(X_train, y_train, X_test)  \n",
    "    accknn.append(Accuracy)\n",
    "    \n",
    "    # Naive Bayes\n",
    "    classifier, Accuracy, report, X_test, y_test, cm = Navie(X_train, y_train, X_test)  \n",
    "    accnav.append(Accuracy)\n",
    "    \n",
    "    # Decision Tree\n",
    "    classifier, Accuracy, report, X_test, y_test, cm = Decision(X_train, y_train, X_test)  \n",
    "    accdes.append(Accuracy)\n",
    "    \n",
    "    # Random Forest\n",
    "    classifier, Accuracy, report, X_test, y_test, cm = random(X_train, y_train, X_test)  \n",
    "    accrf.append(Accuracy)\n",
    "\n",
    "# Generate the result DataFrame\n",
    "result = rfe_classification(acclog, accsvml, accsvmnl, accknn, accnav, accdes, accrf)\n"
   ]
  },
  {
   "cell_type": "markdown",
   "id": "5711cc75-768d-43f6-a479-efb1c5292ed8",
   "metadata": {},
   "source": [
    "**Key Points:**\n",
    "- **Define rfelist:** Call `rfeFeature` before the loop to generate `rfelist`. Ensure `indep_X`, `dep_Y`, and `n` are correctly passed.\n",
    "- **Define Functions:** Ensure all functions used (`split_scalar`, `logistic`, `svm_linear`, `svm_NL`, `knn`, `Navie`, `Decision`, `random`, `rfe_classification`) are properly implemented and imported before running the code.\n",
    "- **Variable Scope:** Confirm all variables (`indep_X`, `dep_Y`) are defined in the same scope as this code.\n",
    "\n",
    "This setup ensures `rfelist` is properly defined, and the loop executes without errors.\n"
   ]
  },
  {
   "cell_type": "markdown",
   "id": "fc776a54-683b-4a35-b08b-19f77777fb13",
   "metadata": {},
   "source": [
    "To generate a result similar to the output from `SelectKBest` (i.e., a table comparing model accuracies for a given feature selection method), we need to ensure the following steps are taken:\n",
    "\n",
    "### Generate Consistent Outputs:\n",
    "\n",
    "- Ensure that the `rfeFeature` function returns the selected features correctly.\n",
    "- Ensure all models are evaluated in the same way as they were in the `SelectKBest` example.\n",
    "\n",
    "### Store and Compare Results:\n",
    "\n",
    "- After obtaining accuracies for each model using `rfeFeature`, organize them into a DataFrame.\n",
    "- Compare the DataFrame from `SelectKBest` with the one generated by `rfeFeature`.\n",
    "\n",
    "### Here’s the complete workflow:\n",
    "\n",
    "#### Step 1: Ensure `rfeFeature` Works Correctly\n",
    "Make sure `rfeFeature` outputs the reduced feature set correctly for all iterations. For example:\n"
   ]
  },
  {
   "cell_type": "code",
   "execution_count": 20,
   "id": "b2bff2c9-2f4e-4024-acef-86a7aff257f6",
   "metadata": {},
   "outputs": [
    {
     "name": "stdout",
     "output_type": "stream",
     "text": [
      "LogisticRegression(max_iter=1000)\n"
     ]
    },
    {
     "name": "stderr",
     "output_type": "stream",
     "text": [
      "C:\\Users\\dell\\anaconda3\\envs\\aiml\\lib\\site-packages\\sklearn\\linear_model\\_logistic.py:469: ConvergenceWarning: lbfgs failed to converge (status=1):\n",
      "STOP: TOTAL NO. of ITERATIONS REACHED LIMIT.\n",
      "\n",
      "Increase the number of iterations (max_iter) or scale the data as shown in:\n",
      "    https://scikit-learn.org/stable/modules/preprocessing.html\n",
      "Please also refer to the documentation for alternative solver options:\n",
      "    https://scikit-learn.org/stable/modules/linear_model.html#logistic-regression\n",
      "  n_iter_i = _check_optimize_result(\n"
     ]
    },
    {
     "name": "stdout",
     "output_type": "stream",
     "text": [
      "SVC(kernel='linear', random_state=0)\n",
      "RandomForestClassifier(criterion='entropy', n_estimators=10, random_state=0)\n",
      "DecisionTreeClassifier(max_features='sqrt', random_state=0)\n"
     ]
    }
   ],
   "source": [
    "rfelist = rfeFeature(indep_X, dep_Y, 3)  # Generate top 3 features using RFE\n"
   ]
  },
  {
   "cell_type": "markdown",
   "id": "4a3728a3-5930-45f7-802b-fdf63bd37efe",
   "metadata": {},
   "source": [
    "### Step 2: Evaluate Models and Collect Accuracies\n",
    "Use a similar loop to evaluate models as in the `SelectKBest` example:\n"
   ]
  },
  {
   "cell_type": "code",
   "execution_count": 21,
   "id": "71afe130-060f-4b80-acd7-02405322c5fe",
   "metadata": {},
   "outputs": [],
   "source": [
    "# Lists to store accuracies for RFE\n",
    "acclog_rfe = []\n",
    "accsvml_rfe = []\n",
    "accsvmnl_rfe = []\n",
    "accknn_rfe = []\n",
    "accnav_rfe = []\n",
    "accdes_rfe = []\n",
    "accrf_rfe = []\n",
    "\n",
    "# Iterate through RFE-transformed datasets\n",
    "for i in rfelist:\n",
    "    X_train, X_test, y_train, y_test = split_scalar(i, dep_Y)  # Ensure this works properly\n",
    "\n",
    "    # Logistic Regression\n",
    "    classifier, Accuracy, report, X_test, y_test, cm = logistic(X_train, y_train, X_test)\n",
    "    acclog_rfe.append(Accuracy)\n",
    "    \n",
    "    # SVM (Linear Kernel)\n",
    "    classifier, Accuracy, report, X_test, y_test, cm = svm_linear(X_train, y_train, X_test)\n",
    "    accsvml_rfe.append(Accuracy)\n",
    "    \n",
    "    # SVM (Non-Linear Kernel)\n",
    "    classifier, Accuracy, report, X_test, y_test, cm = svm_NL(X_train, y_train, X_test)\n",
    "    accsvmnl_rfe.append(Accuracy)\n",
    "    \n",
    "    # k-NN\n",
    "    classifier, Accuracy, report, X_test, y_test, cm = knn(X_train, y_train, X_test)\n",
    "    accknn_rfe.append(Accuracy)\n",
    "    \n",
    "    # Naive Bayes\n",
    "    classifier, Accuracy, report, X_test, y_test, cm = Navie(X_train, y_train, X_test)\n",
    "    accnav_rfe.append(Accuracy)\n",
    "    \n",
    "    # Decision Tree\n",
    "    classifier, Accuracy, report, X_test, y_test, cm = Decision(X_train, y_train, X_test)\n",
    "    accdes_rfe.append(Accuracy)\n",
    "    \n",
    "    # Random Forest\n",
    "    classifier, Accuracy, report, X_test, y_test, cm = random(X_train, y_train, X_test)\n",
    "    accrf_rfe.append(Accuracy)\n"
   ]
  },
  {
   "cell_type": "markdown",
   "id": "934620b9-a062-4f24-bbde-6c16fe32ec55",
   "metadata": {},
   "source": [
    "### Step 3: Create DataFrame for RFE Results\n",
    "Organize the accuracies into a DataFrame:\n"
   ]
  },
  {
   "cell_type": "code",
   "execution_count": 22,
   "id": "1bfd020e-54a5-4b80-954d-b6c9b41c2853",
   "metadata": {},
   "outputs": [
    {
     "ename": "ValueError",
     "evalue": "Length of values (4) does not match length of index (1)",
     "output_type": "error",
     "traceback": [
      "\u001b[1;31m---------------------------------------------------------------------------\u001b[0m",
      "\u001b[1;31mValueError\u001b[0m                                Traceback (most recent call last)",
      "Cell \u001b[1;32mIn[22], line 4\u001b[0m\n\u001b[0;32m      1\u001b[0m \u001b[38;5;28;01mimport\u001b[39;00m \u001b[38;5;21;01mpandas\u001b[39;00m \u001b[38;5;28;01mas\u001b[39;00m \u001b[38;5;21;01mpd\u001b[39;00m\n\u001b[0;32m      3\u001b[0m \u001b[38;5;66;03m# Create DataFrame for RFE results\u001b[39;00m\n\u001b[1;32m----> 4\u001b[0m rfe_results \u001b[38;5;241m=\u001b[39m \u001b[43mpd\u001b[49m\u001b[38;5;241;43m.\u001b[39;49m\u001b[43mDataFrame\u001b[49m\u001b[43m(\u001b[49m\u001b[43m{\u001b[49m\n\u001b[0;32m      5\u001b[0m \u001b[43m    \u001b[49m\u001b[38;5;124;43m'\u001b[39;49m\u001b[38;5;124;43mLogistic\u001b[39;49m\u001b[38;5;124;43m'\u001b[39;49m\u001b[43m:\u001b[49m\u001b[43m \u001b[49m\u001b[43macclog_rfe\u001b[49m\u001b[43m,\u001b[49m\n\u001b[0;32m      6\u001b[0m \u001b[43m    \u001b[49m\u001b[38;5;124;43m'\u001b[39;49m\u001b[38;5;124;43mSVMl\u001b[39;49m\u001b[38;5;124;43m'\u001b[39;49m\u001b[43m:\u001b[49m\u001b[43m \u001b[49m\u001b[43maccsvml_rfe\u001b[49m\u001b[43m,\u001b[49m\n\u001b[0;32m      7\u001b[0m \u001b[43m    \u001b[49m\u001b[38;5;124;43m'\u001b[39;49m\u001b[38;5;124;43mSVMnl\u001b[39;49m\u001b[38;5;124;43m'\u001b[39;49m\u001b[43m:\u001b[49m\u001b[43m \u001b[49m\u001b[43maccsvmnl_rfe\u001b[49m\u001b[43m,\u001b[49m\n\u001b[0;32m      8\u001b[0m \u001b[43m    \u001b[49m\u001b[38;5;124;43m'\u001b[39;49m\u001b[38;5;124;43mKNN\u001b[39;49m\u001b[38;5;124;43m'\u001b[39;49m\u001b[43m:\u001b[49m\u001b[43m \u001b[49m\u001b[43maccknn_rfe\u001b[49m\u001b[43m,\u001b[49m\n\u001b[0;32m      9\u001b[0m \u001b[43m    \u001b[49m\u001b[38;5;124;43m'\u001b[39;49m\u001b[38;5;124;43mNavie\u001b[39;49m\u001b[38;5;124;43m'\u001b[39;49m\u001b[43m:\u001b[49m\u001b[43m \u001b[49m\u001b[43maccnav_rfe\u001b[49m\u001b[43m,\u001b[49m\n\u001b[0;32m     10\u001b[0m \u001b[43m    \u001b[49m\u001b[38;5;124;43m'\u001b[39;49m\u001b[38;5;124;43mDecision\u001b[39;49m\u001b[38;5;124;43m'\u001b[39;49m\u001b[43m:\u001b[49m\u001b[43m \u001b[49m\u001b[43maccdes_rfe\u001b[49m\u001b[43m,\u001b[49m\n\u001b[0;32m     11\u001b[0m \u001b[43m    \u001b[49m\u001b[38;5;124;43m'\u001b[39;49m\u001b[38;5;124;43mRandom\u001b[39;49m\u001b[38;5;124;43m'\u001b[39;49m\u001b[43m:\u001b[49m\u001b[43m \u001b[49m\u001b[43maccrf_rfe\u001b[49m\n\u001b[0;32m     12\u001b[0m \u001b[43m}\u001b[49m\u001b[43m,\u001b[49m\u001b[43m \u001b[49m\u001b[43mindex\u001b[49m\u001b[38;5;241;43m=\u001b[39;49m\u001b[43m[\u001b[49m\u001b[38;5;124;43m'\u001b[39;49m\u001b[38;5;124;43mRFE\u001b[39;49m\u001b[38;5;124;43m'\u001b[39;49m\u001b[43m]\u001b[49m\u001b[43m)\u001b[49m\n\u001b[0;32m     14\u001b[0m \u001b[38;5;28mprint\u001b[39m(\u001b[38;5;124m\"\u001b[39m\u001b[38;5;124mRFE Results:\u001b[39m\u001b[38;5;124m\"\u001b[39m)\n\u001b[0;32m     15\u001b[0m \u001b[38;5;28mprint\u001b[39m(rfe_results)\n",
      "File \u001b[1;32m~\\anaconda3\\envs\\aiml\\lib\\site-packages\\pandas\\core\\frame.py:778\u001b[0m, in \u001b[0;36mDataFrame.__init__\u001b[1;34m(self, data, index, columns, dtype, copy)\u001b[0m\n\u001b[0;32m    772\u001b[0m     mgr \u001b[38;5;241m=\u001b[39m \u001b[38;5;28mself\u001b[39m\u001b[38;5;241m.\u001b[39m_init_mgr(\n\u001b[0;32m    773\u001b[0m         data, axes\u001b[38;5;241m=\u001b[39m{\u001b[38;5;124m\"\u001b[39m\u001b[38;5;124mindex\u001b[39m\u001b[38;5;124m\"\u001b[39m: index, \u001b[38;5;124m\"\u001b[39m\u001b[38;5;124mcolumns\u001b[39m\u001b[38;5;124m\"\u001b[39m: columns}, dtype\u001b[38;5;241m=\u001b[39mdtype, copy\u001b[38;5;241m=\u001b[39mcopy\n\u001b[0;32m    774\u001b[0m     )\n\u001b[0;32m    776\u001b[0m \u001b[38;5;28;01melif\u001b[39;00m \u001b[38;5;28misinstance\u001b[39m(data, \u001b[38;5;28mdict\u001b[39m):\n\u001b[0;32m    777\u001b[0m     \u001b[38;5;66;03m# GH#38939 de facto copy defaults to False only in non-dict cases\u001b[39;00m\n\u001b[1;32m--> 778\u001b[0m     mgr \u001b[38;5;241m=\u001b[39m \u001b[43mdict_to_mgr\u001b[49m\u001b[43m(\u001b[49m\u001b[43mdata\u001b[49m\u001b[43m,\u001b[49m\u001b[43m \u001b[49m\u001b[43mindex\u001b[49m\u001b[43m,\u001b[49m\u001b[43m \u001b[49m\u001b[43mcolumns\u001b[49m\u001b[43m,\u001b[49m\u001b[43m \u001b[49m\u001b[43mdtype\u001b[49m\u001b[38;5;241;43m=\u001b[39;49m\u001b[43mdtype\u001b[49m\u001b[43m,\u001b[49m\u001b[43m \u001b[49m\u001b[43mcopy\u001b[49m\u001b[38;5;241;43m=\u001b[39;49m\u001b[43mcopy\u001b[49m\u001b[43m,\u001b[49m\u001b[43m \u001b[49m\u001b[43mtyp\u001b[49m\u001b[38;5;241;43m=\u001b[39;49m\u001b[43mmanager\u001b[49m\u001b[43m)\u001b[49m\n\u001b[0;32m    779\u001b[0m \u001b[38;5;28;01melif\u001b[39;00m \u001b[38;5;28misinstance\u001b[39m(data, ma\u001b[38;5;241m.\u001b[39mMaskedArray):\n\u001b[0;32m    780\u001b[0m     \u001b[38;5;28;01mfrom\u001b[39;00m \u001b[38;5;21;01mnumpy\u001b[39;00m\u001b[38;5;21;01m.\u001b[39;00m\u001b[38;5;21;01mma\u001b[39;00m \u001b[38;5;28;01mimport\u001b[39;00m mrecords\n",
      "File \u001b[1;32m~\\anaconda3\\envs\\aiml\\lib\\site-packages\\pandas\\core\\internals\\construction.py:503\u001b[0m, in \u001b[0;36mdict_to_mgr\u001b[1;34m(data, index, columns, dtype, typ, copy)\u001b[0m\n\u001b[0;32m    499\u001b[0m     \u001b[38;5;28;01melse\u001b[39;00m:\n\u001b[0;32m    500\u001b[0m         \u001b[38;5;66;03m# dtype check to exclude e.g. range objects, scalars\u001b[39;00m\n\u001b[0;32m    501\u001b[0m         arrays \u001b[38;5;241m=\u001b[39m [x\u001b[38;5;241m.\u001b[39mcopy() \u001b[38;5;28;01mif\u001b[39;00m \u001b[38;5;28mhasattr\u001b[39m(x, \u001b[38;5;124m\"\u001b[39m\u001b[38;5;124mdtype\u001b[39m\u001b[38;5;124m\"\u001b[39m) \u001b[38;5;28;01melse\u001b[39;00m x \u001b[38;5;28;01mfor\u001b[39;00m x \u001b[38;5;129;01min\u001b[39;00m arrays]\n\u001b[1;32m--> 503\u001b[0m \u001b[38;5;28;01mreturn\u001b[39;00m \u001b[43marrays_to_mgr\u001b[49m\u001b[43m(\u001b[49m\u001b[43marrays\u001b[49m\u001b[43m,\u001b[49m\u001b[43m \u001b[49m\u001b[43mcolumns\u001b[49m\u001b[43m,\u001b[49m\u001b[43m \u001b[49m\u001b[43mindex\u001b[49m\u001b[43m,\u001b[49m\u001b[43m \u001b[49m\u001b[43mdtype\u001b[49m\u001b[38;5;241;43m=\u001b[39;49m\u001b[43mdtype\u001b[49m\u001b[43m,\u001b[49m\u001b[43m \u001b[49m\u001b[43mtyp\u001b[49m\u001b[38;5;241;43m=\u001b[39;49m\u001b[43mtyp\u001b[49m\u001b[43m,\u001b[49m\u001b[43m \u001b[49m\u001b[43mconsolidate\u001b[49m\u001b[38;5;241;43m=\u001b[39;49m\u001b[43mcopy\u001b[49m\u001b[43m)\u001b[49m\n",
      "File \u001b[1;32m~\\anaconda3\\envs\\aiml\\lib\\site-packages\\pandas\\core\\internals\\construction.py:119\u001b[0m, in \u001b[0;36marrays_to_mgr\u001b[1;34m(arrays, columns, index, dtype, verify_integrity, typ, consolidate)\u001b[0m\n\u001b[0;32m    116\u001b[0m         index \u001b[38;5;241m=\u001b[39m ensure_index(index)\n\u001b[0;32m    118\u001b[0m     \u001b[38;5;66;03m# don't force copy because getting jammed in an ndarray anyway\u001b[39;00m\n\u001b[1;32m--> 119\u001b[0m     arrays, refs \u001b[38;5;241m=\u001b[39m \u001b[43m_homogenize\u001b[49m\u001b[43m(\u001b[49m\u001b[43marrays\u001b[49m\u001b[43m,\u001b[49m\u001b[43m \u001b[49m\u001b[43mindex\u001b[49m\u001b[43m,\u001b[49m\u001b[43m \u001b[49m\u001b[43mdtype\u001b[49m\u001b[43m)\u001b[49m\n\u001b[0;32m    120\u001b[0m     \u001b[38;5;66;03m# _homogenize ensures\u001b[39;00m\n\u001b[0;32m    121\u001b[0m     \u001b[38;5;66;03m#  - all(len(x) == len(index) for x in arrays)\u001b[39;00m\n\u001b[0;32m    122\u001b[0m     \u001b[38;5;66;03m#  - all(x.ndim == 1 for x in arrays)\u001b[39;00m\n\u001b[1;32m   (...)\u001b[0m\n\u001b[0;32m    125\u001b[0m \n\u001b[0;32m    126\u001b[0m \u001b[38;5;28;01melse\u001b[39;00m:\n\u001b[0;32m    127\u001b[0m     index \u001b[38;5;241m=\u001b[39m ensure_index(index)\n",
      "File \u001b[1;32m~\\anaconda3\\envs\\aiml\\lib\\site-packages\\pandas\\core\\internals\\construction.py:630\u001b[0m, in \u001b[0;36m_homogenize\u001b[1;34m(data, index, dtype)\u001b[0m\n\u001b[0;32m    627\u001b[0m         val \u001b[38;5;241m=\u001b[39m lib\u001b[38;5;241m.\u001b[39mfast_multiget(val, oindex\u001b[38;5;241m.\u001b[39m_values, default\u001b[38;5;241m=\u001b[39mnp\u001b[38;5;241m.\u001b[39mnan)\n\u001b[0;32m    629\u001b[0m     val \u001b[38;5;241m=\u001b[39m sanitize_array(val, index, dtype\u001b[38;5;241m=\u001b[39mdtype, copy\u001b[38;5;241m=\u001b[39m\u001b[38;5;28;01mFalse\u001b[39;00m)\n\u001b[1;32m--> 630\u001b[0m     \u001b[43mcom\u001b[49m\u001b[38;5;241;43m.\u001b[39;49m\u001b[43mrequire_length_match\u001b[49m\u001b[43m(\u001b[49m\u001b[43mval\u001b[49m\u001b[43m,\u001b[49m\u001b[43m \u001b[49m\u001b[43mindex\u001b[49m\u001b[43m)\u001b[49m\n\u001b[0;32m    631\u001b[0m     refs\u001b[38;5;241m.\u001b[39mappend(\u001b[38;5;28;01mNone\u001b[39;00m)\n\u001b[0;32m    633\u001b[0m homogenized\u001b[38;5;241m.\u001b[39mappend(val)\n",
      "File \u001b[1;32m~\\anaconda3\\envs\\aiml\\lib\\site-packages\\pandas\\core\\common.py:573\u001b[0m, in \u001b[0;36mrequire_length_match\u001b[1;34m(data, index)\u001b[0m\n\u001b[0;32m    569\u001b[0m \u001b[38;5;250m\u001b[39m\u001b[38;5;124;03m\"\"\"\u001b[39;00m\n\u001b[0;32m    570\u001b[0m \u001b[38;5;124;03mCheck the length of data matches the length of the index.\u001b[39;00m\n\u001b[0;32m    571\u001b[0m \u001b[38;5;124;03m\"\"\"\u001b[39;00m\n\u001b[0;32m    572\u001b[0m \u001b[38;5;28;01mif\u001b[39;00m \u001b[38;5;28mlen\u001b[39m(data) \u001b[38;5;241m!=\u001b[39m \u001b[38;5;28mlen\u001b[39m(index):\n\u001b[1;32m--> 573\u001b[0m     \u001b[38;5;28;01mraise\u001b[39;00m \u001b[38;5;167;01mValueError\u001b[39;00m(\n\u001b[0;32m    574\u001b[0m         \u001b[38;5;124m\"\u001b[39m\u001b[38;5;124mLength of values \u001b[39m\u001b[38;5;124m\"\u001b[39m\n\u001b[0;32m    575\u001b[0m         \u001b[38;5;124mf\u001b[39m\u001b[38;5;124m\"\u001b[39m\u001b[38;5;124m(\u001b[39m\u001b[38;5;132;01m{\u001b[39;00m\u001b[38;5;28mlen\u001b[39m(data)\u001b[38;5;132;01m}\u001b[39;00m\u001b[38;5;124m) \u001b[39m\u001b[38;5;124m\"\u001b[39m\n\u001b[0;32m    576\u001b[0m         \u001b[38;5;124m\"\u001b[39m\u001b[38;5;124mdoes not match length of index \u001b[39m\u001b[38;5;124m\"\u001b[39m\n\u001b[0;32m    577\u001b[0m         \u001b[38;5;124mf\u001b[39m\u001b[38;5;124m\"\u001b[39m\u001b[38;5;124m(\u001b[39m\u001b[38;5;132;01m{\u001b[39;00m\u001b[38;5;28mlen\u001b[39m(index)\u001b[38;5;132;01m}\u001b[39;00m\u001b[38;5;124m)\u001b[39m\u001b[38;5;124m\"\u001b[39m\n\u001b[0;32m    578\u001b[0m     )\n",
      "\u001b[1;31mValueError\u001b[0m: Length of values (4) does not match length of index (1)"
     ]
    }
   ],
   "source": [
    "import pandas as pd\n",
    "\n",
    "# Create DataFrame for RFE results\n",
    "rfe_results = pd.DataFrame({\n",
    "    'Logistic': acclog_rfe,\n",
    "    'SVMl': accsvml_rfe,\n",
    "    'SVMnl': accsvmnl_rfe,\n",
    "    'KNN': accknn_rfe,\n",
    "    'Navie': accnav_rfe,\n",
    "    'Decision': accdes_rfe,\n",
    "    'Random': accrf_rfe\n",
    "}, index=['RFE'])\n",
    "\n",
    "print(\"RFE Results:\")\n",
    "print(rfe_results)\n"
   ]
  },
  {
   "cell_type": "markdown",
   "id": "d874370e-fe29-4b5f-b2c1-a549815dca83",
   "metadata": {},
   "source": [
    "The error `ValueError: Length of values (4) does not match length of index (1)` indicates that the lists (`acclog_rfe`, `accsvml_rfe`, etc.) contain multiple values (e.g., 4 values) while you have specified only one row label (`index=['RFE']`) for the DataFrame.\n",
    "\n",
    "This mismatch happens because the lists likely represent multiple iterations (e.g., different feature subsets from RFE), but the DataFrame is expecting only one row.\n",
    "\n",
    "**Solution**\n",
    "Modify the code to ensure the DataFrame index matches the number of rows in the lists. Here’s how you can resolve it:\n",
    "\n",
    "### Step 1: Check List Lengths\n",
    "Before creating the DataFrame, confirm the length of each list:\n"
   ]
  },
  {
   "cell_type": "code",
   "execution_count": 23,
   "id": "ca492a1b-7b22-449f-b334-8b64f5749d58",
   "metadata": {},
   "outputs": [
    {
     "name": "stdout",
     "output_type": "stream",
     "text": [
      "4\n"
     ]
    }
   ],
   "source": [
    "print(len(acclog_rfe))  # Check the length of any accuracy list\n"
   ]
  },
  {
   "cell_type": "markdown",
   "id": "eed4cf86-af04-4197-be0d-d53cf0f0b7a5",
   "metadata": {},
   "source": [
    "Since the length of `acclog_rfe` is 4, it means you have results for 4 different feature subsets from the RFE process. To proceed, you need to ensure the index of the DataFrame has 4 labels, corresponding to these subsets.\n",
    "\n",
    "### Here’s how to proceed:\n",
    "\n",
    "#### Step 1: Create Index Labels\n",
    "Generate labels for each feature subset:\n"
   ]
  },
  {
   "cell_type": "code",
   "execution_count": 24,
   "id": "73799f20-f78d-428a-b6ff-df49d941fb43",
   "metadata": {},
   "outputs": [],
   "source": [
    "index_labels = [f'RFE_Set_{i+1}' for i in range(len(acclog_rfe))]\n"
   ]
  },
  {
   "cell_type": "markdown",
   "id": "14e6d727-7bd0-4731-a88e-39ab1a315b90",
   "metadata": {},
   "source": [
    "#### This will create:"
   ]
  },
  {
   "cell_type": "code",
   "execution_count": 25,
   "id": "84ab0eee-6040-43ad-9381-ca453e32bb66",
   "metadata": {},
   "outputs": [
    {
     "data": {
      "text/plain": [
       "['RFE_Set_1', 'RFE_Set_2', 'RFE_Set_3', 'RFE_Set_4']"
      ]
     },
     "execution_count": 25,
     "metadata": {},
     "output_type": "execute_result"
    }
   ],
   "source": [
    "['RFE_Set_1', 'RFE_Set_2', 'RFE_Set_3', 'RFE_Set_4']\n"
   ]
  },
  {
   "cell_type": "markdown",
   "id": "e2424aee-4834-4969-9865-78415d1f76fc",
   "metadata": {},
   "source": [
    "### Step 2: Create the DataFrame\n",
    "Now use these labels to create the `rfe_results` DataFrame:\n"
   ]
  },
  {
   "cell_type": "code",
   "execution_count": 26,
   "id": "04b54041-c534-4f81-89c0-8e37ea76e2da",
   "metadata": {},
   "outputs": [
    {
     "name": "stdout",
     "output_type": "stream",
     "text": [
      "RFE Results:\n",
      "           Logistic  SVMl  SVMnl   KNN  Navie  Decision  Random\n",
      "RFE_Set_1      0.94  0.94   0.94  0.94   0.94      0.94    0.94\n",
      "RFE_Set_2      0.87  0.87   0.87  0.87   0.87      0.87    0.87\n",
      "RFE_Set_3      0.94  0.94   0.94  0.94   0.90      0.91    0.92\n",
      "RFE_Set_4      0.98  0.98   0.98  0.98   0.79      0.97    0.97\n"
     ]
    }
   ],
   "source": [
    "import pandas as pd\n",
    "\n",
    "# Create DataFrame for RFE results\n",
    "rfe_results = pd.DataFrame({\n",
    "    'Logistic': acclog_rfe,\n",
    "    'SVMl': accsvml_rfe,\n",
    "    'SVMnl': accsvmnl_rfe,\n",
    "    'KNN': accknn_rfe,\n",
    "    'Navie': accnav_rfe,\n",
    "    'Decision': accdes_rfe,\n",
    "    'Random': accrf_rfe\n",
    "}, index=index_labels)\n",
    "\n",
    "print(\"RFE Results:\")\n",
    "print(rfe_results)\n"
   ]
  },
  {
   "cell_type": "markdown",
   "id": "6a4af0fb-042b-4ea2-a157-de96de91b56b",
   "metadata": {},
   "source": [
    "|         | Logistic | SVMl  | SVMnl | KNN   | Navie | Decision | Random |\n",
    "|---------|----------|-------|-------|-------|-------|----------|--------|\n",
    "| RFE_Set_1 | 0.94     | 0.94  | 0.94  | 0.94  | 0.94  | 0.94     | 0.94   |\n",
    "| RFE_Set_2 | 0.87     | 0.87  | 0.87  | 0.87  | 0.87  | 0.87     | 0.87   |\n",
    "| RFE_Set_3 | 0.94     | 0.94  | 0.94  | 0.94  | 0.90  | 0.91     | 0.92   |\n",
    "| RFE_Set_4 | 0.98     | 0.98  | 0.98  | 0.98  | 0.79  | 0.97     | 0.97   |\n"
   ]
  },
  {
   "cell_type": "code",
   "execution_count": null,
   "id": "64246f4d-468a-4477-bc4b-84976f345fa1",
   "metadata": {},
   "outputs": [],
   "source": []
  }
 ],
 "metadata": {
  "kernelspec": {
   "display_name": "Python 3 (ipykernel)",
   "language": "python",
   "name": "python3"
  },
  "language_info": {
   "codemirror_mode": {
    "name": "ipython",
    "version": 3
   },
   "file_extension": ".py",
   "mimetype": "text/x-python",
   "name": "python",
   "nbconvert_exporter": "python",
   "pygments_lexer": "ipython3",
   "version": "3.10.15"
  }
 },
 "nbformat": 4,
 "nbformat_minor": 5
}
